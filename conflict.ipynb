{
 "cells": [
  {
   "cell_type": "code",
   "execution_count": null,
   "id": "24ffd31a",
   "metadata": {},
   "outputs": [
    {
     "ename": "SyntaxError",
     "evalue": "invalid syntax (2799676622.py, line 8)",
     "output_type": "error",
     "traceback": [
      "  \u001b[36mCell\u001b[39m\u001b[36m \u001b[39m\u001b[32mIn[1]\u001b[39m\u001b[32m, line 8\u001b[39m\n\u001b[31m    \u001b[39m\u001b[31m<<<<<<< local\u001b[39m\n    ^\n\u001b[31mSyntaxError\u001b[39m\u001b[31m:\u001b[39m invalid syntax\n"
     ]
    }
   ],
   "source": [
    "# Contoh Data Science Sederhana: Analisis Data Dummy dan Visualisasi\n",
    "\n",
    "import pandas as pd\n",
    "import matplotlib.pyplot as plt\n",
    "\n",
    "# Membuat data dummy\n",
    "data = {    \n",
    "    'umur': [18, 20, 22, 24, 26, 28, 30, 32, 34, 36, 38],\n",
    "    'berat_badan': [55, 58, 60, 62, 65, 68, 70, 72, 75, 78, 80],\n",
    "    'tinggi_badan': [160, 162, 165, 167, 170, 172, 175, 177, 180, 182, 185]\n",
    "}\n",
    "df = pd.DataFrame(data)\n",
    "\n",
    "# Statistik deskriptif\n",
    "print(\"Statistik Deskriptif:\")\n",
    "print(df.describe())\n",
    "\n",
    "# Visualisasi hubungan umur dan berat badan\n",
    "plt.plot(df['umur'], df['berat_badan'], marker='o')\n",
    "plt.xlabel('Umur')\n",
    "plt.ylabel('Berat Badan')\n",
    "plt.title('Hubungan Umur dan Berat Badan')\n",
    "plt.show()"
   ]
  }
 ],
 "metadata": {
  "kernelspec": {
   "display_name": ".venv",
   "language": "python",
   "name": "python3"
  },
  "language_info": {
   "codemirror_mode": {
    "name": "ipython",
    "version": 3
   },
   "file_extension": ".py",
   "mimetype": "text/x-python",
   "name": "python",
   "nbconvert_exporter": "python",
   "pygments_lexer": "ipython3",
   "version": "3.13.5"
  }
 },
 "nbformat": 4,
 "nbformat_minor": 5
}
